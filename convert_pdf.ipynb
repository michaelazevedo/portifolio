{
 "cells": [
  {
   "cell_type": "code",
   "execution_count": 15,
   "id": "82994e0d",
   "metadata": {},
   "outputs": [
    {
     "name": "stdout",
     "output_type": "stream",
     "text": [
      "Conversão concluída! Arquivo salvo: mercados subsidiários.csv\n"
     ]
    }
   ],
   "source": [
    "import pdfplumber\n",
    "import pandas as pd\n",
    "\n",
    "def pdf_para_csv_pdfplumber(pdf_path, csv_path):\n",
    "    dados = []\n",
    "    \n",
    "    with pdfplumber.open(pdf_path) as pdf:\n",
    "        for num_pagina, pagina in enumerate(pdf.pages):\n",
    "            # Extrair tabelas (se o PDF tiver estrutura de tabela)\n",
    "            tabelas = pagina.extract_tables()\n",
    "            \n",
    "            for tabela in tabelas:\n",
    "                for linha in tabela:\n",
    "                    dados.append(linha)\n",
    "            \n",
    "            # Se não encontrar tabelas, extrair texto\n",
    "            if not tabelas:\n",
    "                texto = pagina.extract_text()\n",
    "                if texto:\n",
    "                    linhas = texto.split('\\n')\n",
    "                    for linha in linhas:\n",
    "                        if linha.strip():\n",
    "                            # Tentar dividir por espaços múltiplos\n",
    "                            colunas = [col.strip() for col in linha.split('  ') if col.strip()]\n",
    "                            if colunas:\n",
    "                                dados.append(colunas)\n",
    "    \n",
    "    # Encontrar número máximo de colunas\n",
    "    if dados:\n",
    "        max_cols = max(len(linha) for linha in dados)\n",
    "        \n",
    "        # Padronizar colunas\n",
    "        dados_padronizados = []\n",
    "        for linha in dados:\n",
    "            linha_completa = linha + [''] * (max_cols - len(linha))\n",
    "            dados_padronizados.append(linha_completa)\n",
    "        \n",
    "        # Salvar CSV\n",
    "        df = pd.DataFrame(dados_padronizados)\n",
    "        df.to_csv(csv_path, index=False, header=False)\n",
    "        print(f\"Conversão concluída! Arquivo salvo: {csv_path}\")\n",
    "    else:\n",
    "        print(\"Nenhum dado extraído do PDF.\")\n",
    "\n",
    "# Uso\n",
    "pdf_para_csv_pdfplumber(r\"C:\\Users\\michael.azevedo\\OneDrive - VIACAO GARCIA LTDA\\PROJETOS\\2025\\00-ADILIO\\mercados subsidiários.pdf\", 'mercados subsidiários.csv')"
   ]
  }
 ],
 "metadata": {
  "kernelspec": {
   "display_name": "Python 3",
   "language": "python",
   "name": "python3"
  },
  "language_info": {
   "codemirror_mode": {
    "name": "ipython",
    "version": 3
   },
   "file_extension": ".py",
   "mimetype": "text/x-python",
   "name": "python",
   "nbconvert_exporter": "python",
   "pygments_lexer": "ipython3",
   "version": "3.12.10"
  }
 },
 "nbformat": 4,
 "nbformat_minor": 5
}
